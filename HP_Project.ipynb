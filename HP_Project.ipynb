{
  "nbformat": 4,
  "nbformat_minor": 0,
  "metadata": {
    "colab": {
      "provenance": [],
      "authorship_tag": "ABX9TyN8aQNsM75q+Y6UmG+1p1W3",
      "include_colab_link": true
    },
    "kernelspec": {
      "name": "python3",
      "display_name": "Python 3"
    },
    "language_info": {
      "name": "python"
    }
  },
  "cells": [
    {
      "cell_type": "markdown",
      "metadata": {
        "id": "view-in-github",
        "colab_type": "text"
      },
      "source": [
        "<a href=\"https://colab.research.google.com/github/Sundaynot/HP_Big_data_project/blob/main/HP_Project.ipynb\" target=\"_parent\"><img src=\"https://colab.research.google.com/assets/colab-badge.svg\" alt=\"Open In Colab\"/></a>"
      ]
    },
    {
      "cell_type": "code",
      "execution_count": 25,
      "metadata": {
        "colab": {
          "base_uri": "https://localhost:8080/"
        },
        "id": "L86AJ4jriFCt",
        "outputId": "43c1f7bc-62af-41bb-96c6-6508ac7b790d"
      },
      "outputs": [
        {
          "output_type": "stream",
          "name": "stdout",
          "text": [
            "Requirement already satisfied: pyspark in /usr/local/lib/python3.12/dist-packages (3.5.1)\n",
            "Requirement already satisfied: py4j==0.10.9.7 in /usr/local/lib/python3.12/dist-packages (from pyspark) (0.10.9.7)\n",
            "ln: failed to create symbolic link '/usr/local/lib/libtbbmalloc_proxy.so.2': File exists\n",
            "ln: failed to create symbolic link '/usr/local/lib/libtbbmalloc.so.2': File exists\n",
            "ln: failed to create symbolic link '/usr/local/lib/libtbbbind_2_5.so.3': File exists\n",
            "ln: failed to create symbolic link '/usr/local/lib/libtbb.so.12': File exists\n",
            "ln: failed to create symbolic link '/usr/local/lib/libtbbbind_2_0.so.3': File exists\n",
            "ln: failed to create symbolic link '/usr/local/lib/libtbbbind.so.3': File exists\n",
            "openjdk-8-jdk-headless is already the newest version (8u462-ga~us1-0ubuntu2~22.04.2).\n",
            "0 upgraded, 0 newly installed, 0 to remove and 41 not upgraded.\n"
          ]
        }
      ],
      "source": [
        "!pip install pyspark\n",
        "!pip install -U -q PyDrive2\n",
        "#l'output 'xxx is not a symbolic link' non influirà sull'implementazione o esecuzione\n",
        "#per risolvere 'xxx is not a symbolic link', commenta le righe che iniziano con !mv xxxx\n",
        "#dovresti sostituire xxx.11 con la versione corretta se si verificano altri errori dopo un aggiornamento di Colab\n",
        "#per ottenre la versione corretta, usa !ls /usr/local/lib per verificarla\n",
        "#!mv /usr/local/lib/libtbbmalloc_proxy.so.2 /usr/local/lib/libtbbmalloc_proxy.so.2.backup\n",
        "#!mv /usr/local/lib/libtbbmalloc.so.2 /usr/local/lib/libtbbmalloc.so.2.backup\n",
        "#!mv /usr/local/lib/libtbbbind_2_5.so.3 /usr/local/lib/libtbbbind_2_5.so.3.backup\n",
        "#!mv /usr/local/lib/libtbb.so.12 /usr/local/lib/libtbb.so.12.backup\n",
        "#!mv /usr/local/lib/libtbbbind_2_0.so.3 /usr/local/lib/libtbbbind_2_0.so.3.backup\n",
        "#!mv /usr/local/lib/libtbbbind.so.3 /usr/local/lib/libtbbbind.so.3.backup\n",
        "!ln -s /usr/local/lib/libtbbmalloc_proxy.so.2.11 /usr/local/lib/libtbbmalloc_proxy.so.2\n",
        "!ln -s /usr/local/lib/libtbbmalloc.so.2.11 /usr/local/lib/libtbbmalloc.so.2\n",
        "!ln -s /usr/local/lib/libtbbbind_2_5.so.3.11 /usr/local/lib/libtbbbind_2_5.so.3\n",
        "!ln -s /usr/local/lib/libtbb.so.12.11 /usr/local/lib/libtbb.so.12\n",
        "!ln -s /usr/local/lib/libtbbbind_2_0.so.3.11 /usr/local/lib/libtbbbind_2_0.so.3\n",
        "!ln -s /usr/local/lib/libtbbbind.so.3.11 /usr/local/lib/libtbbbind.so.3\n",
        "# !sudo ldconfig\n",
        "#Se si verifica un errore relativo all'esecuzione sopra indicata, puoi provare a commentare le 12 righe sopra sotto l'installazione di\n",
        "!apt install openjdk-8-jdk-headless -qq\n",
        "import os\n",
        "os.environ[\"JAVA_HOME\"] = \"/usr/lib/jvm/java-8-openjdk-amd64\"\n",
        "#l'output 'xxx is not a symbolic link' non influirà sulla tua implementazione o esecuzione\n",
        "#per risolvere 'xxx is not a symbolic link', puoi commentare le righe che iniziano con !mv xxxx\n",
        "#dovresti sostituire xxx.11 con la versione corretta se si verificano altri errori dopo un aggiornamento di Colab\n",
        "#per ottenre la versione corretta, usa !ls /usr/local/lib per verificarla"
      ]
    },
    {
      "cell_type": "code",
      "source": [
        "# Creazione della SparkSession\n",
        "from pyspark.sql import SparkSession\n",
        "spark = SparkSession.builder \\\n",
        "    .master(\"local[*]\") \\\n",
        "    .appName(\"HP_Analysis\") \\\n",
        "    .getOrCreate()\n",
        "\n",
        "print(\"Sessione creata\")"
      ],
      "metadata": {
        "colab": {
          "base_uri": "https://localhost:8080/"
        },
        "id": "A0T8f4cqisvG",
        "outputId": "7052ec25-5588-4d08-a34b-7411515e929b"
      },
      "execution_count": 26,
      "outputs": [
        {
          "output_type": "stream",
          "name": "stdout",
          "text": [
            "Sessione creata\n"
          ]
        }
      ]
    },
    {
      "cell_type": "code",
      "source": [
        "# Nome della cartella e URL del repo\n",
        "repo_name = \"HP_Big_data_project\"\n",
        "repo_url = \"https://github.com/sundaynot/HP_Big_data_project.git\"\n",
        "\n",
        "# Clona il repo solo se non esiste già\n",
        "if not os.path.exists(repo_name):\n",
        "    print(f\"Clonazione del repository '{repo_name}'...\")\n",
        "    !git clone {repo_url}\n",
        "else:\n",
        "    print(f\"Repository '{repo_name}' già presente.\")"
      ],
      "metadata": {
        "colab": {
          "base_uri": "https://localhost:8080/"
        },
        "id": "V9wQoZgJjMc_",
        "outputId": "4c6c85b9-f567-49e5-dd36-d84e2294da52"
      },
      "execution_count": 27,
      "outputs": [
        {
          "output_type": "stream",
          "name": "stdout",
          "text": [
            "Repository 'HP_Big_data_project' già presente.\n"
          ]
        }
      ]
    },
    {
      "cell_type": "code",
      "source": [
        "# importo librerie utili\n",
        "from pyspark.sql.functions import col, lower, regexp_replace, explode, split, concat_ws, monotonically_increasing_id, lag, when"
      ],
      "metadata": {
        "id": "iujKLBcejqiG"
      },
      "execution_count": 28,
      "outputs": []
    },
    {
      "cell_type": "code",
      "source": [
        "df_hp1 = spark.read.text(\"/content/HP_Big_data_project/database/01 Harry Potter and the Sorcerers Stone.txt\")\n",
        "df_hp2 = spark.read.text(\"/content/HP_Big_data_project/database/02 Harry Potter and the Chamber of Secrets.txt\")\n",
        "df_hp3 = spark.read.text(\"/content/HP_Big_data_project/database/03 Harry Potter and the Prisoner of Azkaban.txt\")\n",
        "df_hp4 = spark.read.text(\"/content/HP_Big_data_project/database/04 Harry Potter and the Goblet of Fire.txt\")\n",
        "df_hp5 = spark.read.text(\"/content/HP_Big_data_project/database/05 Harry Potter and the Order of the Phoenix.txt\")\n",
        "df_hp6 = spark.read.text(\"/content/HP_Big_data_project/database/06 Harry Potter and the Half-Blood Prince.txt\")\n",
        "df_hp7 = spark.read.text(\"/content/HP_Big_data_project/database/07 Harry Potter and the Deathly Hallows.txt\")"
      ],
      "metadata": {
        "id": "dhYNjEaIj_r7"
      },
      "execution_count": 29,
      "outputs": []
    },
    {
      "cell_type": "code",
      "source": [
        "df_hp1.show(1, truncate=False)\n"
      ],
      "metadata": {
        "id": "xfMaW2BCoPuj",
        "outputId": "99eec206-842e-4dc3-b813-681e11ff309f",
        "colab": {
          "base_uri": "https://localhost:8080/"
        }
      },
      "execution_count": 30,
      "outputs": [
        {
          "output_type": "stream",
          "name": "stdout",
          "text": [
            "+-----------------------------------------------------------------------------------------------------------------------------------------------------------------------------------------------------------------------------------------------------------------------+\n",
            "|value                                                                                                                                                                                                                                                                  |\n",
            "+-----------------------------------------------------------------------------------------------------------------------------------------------------------------------------------------------------------------------------------------------------------------------+\n",
            "|M r. and Mrs. Dursley, of number four, Privet Drive, were proud to say that they were perfectly normal, thank you very much. They were the last people you’d expect to be involved in anything strange or mysterious, because they just didn’t hold with such nonsense.|\n",
            "+-----------------------------------------------------------------------------------------------------------------------------------------------------------------------------------------------------------------------------------------------------------------------+\n",
            "only showing top 1 row\n",
            "\n"
          ]
        }
      ]
    },
    {
      "cell_type": "code",
      "source": [
        "df_hp2.show(1, truncate=False)"
      ],
      "metadata": {
        "id": "ojFhg_A_pSCX",
        "outputId": "b0090381-ed34-45e3-96cf-00f39076d65c",
        "colab": {
          "base_uri": "https://localhost:8080/"
        }
      },
      "execution_count": 31,
      "outputs": [
        {
          "output_type": "stream",
          "name": "stdout",
          "text": [
            "+--------------------------------------------------------------------------------------------------------------------------------------------------------------------------------------------------------------------------+\n",
            "|value                                                                                                                                                                                                                     |\n",
            "+--------------------------------------------------------------------------------------------------------------------------------------------------------------------------------------------------------------------------+\n",
            "|Not for the first time, an argument had broken out over breakfast at number four, Privet Drive. Mr. Vernon Dursley had been woken in the early hours of the morning by a loud, hooting noise from his nephew Harry’s room.|\n",
            "+--------------------------------------------------------------------------------------------------------------------------------------------------------------------------------------------------------------------------+\n",
            "only showing top 1 row\n",
            "\n"
          ]
        }
      ]
    },
    {
      "cell_type": "code",
      "source": [
        "df_hp3.show(1, truncate=False)"
      ],
      "metadata": {
        "id": "kVhLCpzLpXu5",
        "outputId": "46dd2fb0-b63b-43a0-aad2-647a632d090e",
        "colab": {
          "base_uri": "https://localhost:8080/"
        }
      },
      "execution_count": 32,
      "outputs": [
        {
          "output_type": "stream",
          "name": "stdout",
          "text": [
            "+---------------------------------------------------------------------------------------------------------------------------------------------------------------------------------------------------------------------------------------------------------------------------------+\n",
            "|value                                                                                                                                                                                                                                                                            |\n",
            "+---------------------------------------------------------------------------------------------------------------------------------------------------------------------------------------------------------------------------------------------------------------------------------+\n",
            "|Harry Potter was a highly unusual boy in many ways. For one thing, he hated the summer holidays more than any other time of year. For another, he really wanted to do his homework, but was forced to do it in secret, in the dead of night. And he also happened to be a wizard.|\n",
            "+---------------------------------------------------------------------------------------------------------------------------------------------------------------------------------------------------------------------------------------------------------------------------------+\n",
            "only showing top 1 row\n",
            "\n"
          ]
        }
      ]
    },
    {
      "cell_type": "code",
      "source": [
        "df_hp4.show(1, truncate=False)"
      ],
      "metadata": {
        "id": "68jRuFOPpanf",
        "outputId": "b1ea858e-9577-4533-d6b7-c4c6ee633e06",
        "colab": {
          "base_uri": "https://localhost:8080/"
        }
      },
      "execution_count": 33,
      "outputs": [
        {
          "output_type": "stream",
          "name": "stdout",
          "text": [
            "+-----------------------------------------------------------------------------------------------------------------------------------------------------------------------------------------------------------------------------------------------------------------------------------------------------------------------------------------------------------------------------------------------------------------------------------------------------+\n",
            "|value                                                                                                                                                                                                                                                                                                                                                                                                                                                |\n",
            "+-----------------------------------------------------------------------------------------------------------------------------------------------------------------------------------------------------------------------------------------------------------------------------------------------------------------------------------------------------------------------------------------------------------------------------------------------------+\n",
            "|The villagers of Little Hangleton still called it “the Riddle House,” even though it had been many years since the Riddle family had lived there. It stood on a hill overlooking the village, some of its windows boarded, tiles missing from its roof, and ivy spreading unchecked over its face. Once a fine-looking manor, and easily the largest and grandest building for miles around, the Riddle House was now damp, derelict, and unoccupied.|\n",
            "+-----------------------------------------------------------------------------------------------------------------------------------------------------------------------------------------------------------------------------------------------------------------------------------------------------------------------------------------------------------------------------------------------------------------------------------------------------+\n",
            "only showing top 1 row\n",
            "\n"
          ]
        }
      ]
    },
    {
      "cell_type": "code",
      "source": [
        "df_hp5.show(1, truncate=False)"
      ],
      "metadata": {
        "id": "EabMam-2pcSb",
        "outputId": "eb0debd7-33d2-4230-aaa6-2d1d2f0765ee",
        "colab": {
          "base_uri": "https://localhost:8080/"
        }
      },
      "execution_count": 34,
      "outputs": [
        {
          "output_type": "stream",
          "name": "stdout",
          "text": [
            "+-------------------------------------------------------------------------------------------------------------------------------------------------------------------------------------------------------------------------------------------------------------------------------------------------------------------------------------------------------------------------------------------------------------------------------------------------------------------------------------------------------------------------------------------------------------------------------------------------------------------------------------------------------------------+\n",
            "|value                                                                                                                                                                                                                                                                                                                                                                                                                                                                                                                                                                                                                                                              |\n",
            "+-------------------------------------------------------------------------------------------------------------------------------------------------------------------------------------------------------------------------------------------------------------------------------------------------------------------------------------------------------------------------------------------------------------------------------------------------------------------------------------------------------------------------------------------------------------------------------------------------------------------------------------------------------------------+\n",
            "|The hottest day of the summer so far was drawing to a close and a drowsy silence lay over the large, square houses of Privet Drive. Cars that were usually gleaming stood dusty in their drives and lawns that were once emerald green lay parched and yellowing -for the use of hosepipes had been banned due to drought. Deprived of their usual car-washing and lawn-mowing pursuits, the inhabitants of Privet Drive had retreated into the shade of their cool houses, windows thrown wide in the hope of tempting in a nonexistent breeze. The only person left outdoors was a teenage boy who was lying flat on his back in a flowerbed outside number four.|\n",
            "+-------------------------------------------------------------------------------------------------------------------------------------------------------------------------------------------------------------------------------------------------------------------------------------------------------------------------------------------------------------------------------------------------------------------------------------------------------------------------------------------------------------------------------------------------------------------------------------------------------------------------------------------------------------------+\n",
            "only showing top 1 row\n",
            "\n"
          ]
        }
      ]
    },
    {
      "cell_type": "code",
      "source": [
        "df_hp6.show(1, truncate=False)"
      ],
      "metadata": {
        "id": "Je36XXmlpd70",
        "outputId": "e784817a-53c2-4bf9-c96b-8ab4941b4746",
        "colab": {
          "base_uri": "https://localhost:8080/"
        }
      },
      "execution_count": 35,
      "outputs": [
        {
          "output_type": "stream",
          "name": "stdout",
          "text": [
            "+-------------------------------------------------------------------------------------------------------------------------------------------------------------------------------------------------------------------------------------------------------------------------------------------------------------------------------------------------------------------------------------------------------------------------------------------------------------------------------------------------------------------------------------------------------------------------------------------------------------------------------------------------------------------------------------------------------------------------------------------------------------------------------------------------------------------------------------------------------------------------------------------------------------------------------------------+\n",
            "|value                                                                                                                                                                                                                                                                                                                                                                                                                                                                                                                                                                                                                                                                                                                                                                                                                                                                                                                                      |\n",
            "+-------------------------------------------------------------------------------------------------------------------------------------------------------------------------------------------------------------------------------------------------------------------------------------------------------------------------------------------------------------------------------------------------------------------------------------------------------------------------------------------------------------------------------------------------------------------------------------------------------------------------------------------------------------------------------------------------------------------------------------------------------------------------------------------------------------------------------------------------------------------------------------------------------------------------------------------+\n",
            "|It was nearing midnight and the Prime Minister was sitting alone in his office, reading a long memo that was slipping through his brain without leaving the slightest trace of meaning behind. He was waiting for a call from the President of a far distant country, and between wondering when the wretched man would telephone, and trying to suppress unpleasant memories of what had been a very long, tiring, and difficult week, there was not much space in his head for anything else. The more he attempted to focus on the print on the page before him, the more clearly the Prime Minister could see the gloating face of one of his political opponents. This particular opponent had appeared on the news that very day, not only to enumerate all the terrible things that had happened in the last week (as though anyone needed reminding) but also to explain why each and every one of them was the government’s fault.|\n",
            "+-------------------------------------------------------------------------------------------------------------------------------------------------------------------------------------------------------------------------------------------------------------------------------------------------------------------------------------------------------------------------------------------------------------------------------------------------------------------------------------------------------------------------------------------------------------------------------------------------------------------------------------------------------------------------------------------------------------------------------------------------------------------------------------------------------------------------------------------------------------------------------------------------------------------------------------------+\n",
            "only showing top 1 row\n",
            "\n"
          ]
        }
      ]
    },
    {
      "cell_type": "code",
      "source": [
        "df_hp7.show(1, truncate=False)"
      ],
      "metadata": {
        "id": "onFiprrfpgY5",
        "outputId": "9c7d8151-be0f-4c71-e5a4-b2d64a2d6f6f",
        "colab": {
          "base_uri": "https://localhost:8080/"
        }
      },
      "execution_count": 36,
      "outputs": [
        {
          "output_type": "stream",
          "name": "stdout",
          "text": [
            "+----------------------------------------------------------------------------------------------------------------------------------------------------------------------------------------------------------------------------------------------------------------------------------------------------------------------------------------------------------------------------------------------------------------------------------------------------------------------------------------------------------------------------------------------------------------------------------------------------------------------------------------------------------------------------------------------------------------------------------------------------------------------------------------------------------------------------------------------------------------------------------------------------------------------------------------------------------------------------------------------------------------------------------------------------------------------------------------------------------------------------------------------------------------------------------------------------------------------------------------------+\n",
            "|value                                                                                                                                                                                                                                                                                                                                                                                                                                                                                                                                                                                                                                                                                                                                                                                                                                                                                                                                                                                                                                                                                                                                                                                                                                         |\n",
            "+----------------------------------------------------------------------------------------------------------------------------------------------------------------------------------------------------------------------------------------------------------------------------------------------------------------------------------------------------------------------------------------------------------------------------------------------------------------------------------------------------------------------------------------------------------------------------------------------------------------------------------------------------------------------------------------------------------------------------------------------------------------------------------------------------------------------------------------------------------------------------------------------------------------------------------------------------------------------------------------------------------------------------------------------------------------------------------------------------------------------------------------------------------------------------------------------------------------------------------------------+\n",
            "|The two men appeared out of nowhere, a few yards apart in the narrow, moonlit lane. For a second they stood quite still, wands directed at each other's chests; then, recognizing each other, they stowed their wands beneath their cloaks and started walking briskly in the same direction. “News?” asked the taller of the two. “The best,” replied Severus Snape. The lane was bordered on the left by wild, low-growing brambles, on the right by a high, neatly manicured hedge. The men's long cloaks flapped around their ankles as they marched. “Thought I might be late,” said Yaxley, his blunt features sliding in and out of sight as the branches of overhanging trees broke the moonlight. “It was a little trickier than I expected. But I hope he will be satisfied. You sound confident that your reception will be good?” Snape nodded, but did not elaborate. They turned right, into a wide driveway that led off the lane. The high hedge curved into them, running off into the distance beyond the pair of imposing wrought-iron gates barring the men’s way. Neither of them broke step: In silence both raised their left arms in a kind of salute and passed straight through, as though the dark metal was smoke.|\n",
            "+----------------------------------------------------------------------------------------------------------------------------------------------------------------------------------------------------------------------------------------------------------------------------------------------------------------------------------------------------------------------------------------------------------------------------------------------------------------------------------------------------------------------------------------------------------------------------------------------------------------------------------------------------------------------------------------------------------------------------------------------------------------------------------------------------------------------------------------------------------------------------------------------------------------------------------------------------------------------------------------------------------------------------------------------------------------------------------------------------------------------------------------------------------------------------------------------------------------------------------------------+\n",
            "only showing top 1 row\n",
            "\n"
          ]
        }
      ]
    },
    {
      "cell_type": "code",
      "source": [],
      "metadata": {
        "id": "XpasuVqsr4Uk"
      },
      "execution_count": null,
      "outputs": []
    },
    {
      "cell_type": "code",
      "source": [
        "from pyspark.sql import functions as F\n",
        "from pyspark.sql.window import Window\n",
        "\n",
        "\n",
        "# se una riga è del tipo CHAPTER....  mette true nella colonna is_chapter_line\n",
        "df_hp1_with_titles = df_hp1.withColumn(\n",
        "    \"is_chapter_line\",\n",
        "    F.col(\"value\").rlike(r\"^(CHAPTER\\s+[A-Z0-9]+)$\")\n",
        ")\n",
        "\n",
        "# Crea una finestra per mantenere l’ordine originale del testo\n",
        "window_spec = Window.orderBy(F.monotonically_increasing_id())\n",
        "\n",
        "# parte da 0 se nella colonna is_chapter_line=true aggiunge 1\n",
        "df_hp1_with_titles = df_hp1_with_titles.withColumn(\n",
        "    \"chapter_id\",\n",
        "    F.sum(F.when(F.col(\"is_chapter_line\"), 1).otherwise(0)).over(window_spec)\n",
        ")\n",
        "\n",
        "# Aggiungi anche la riga successiva come titolo del capitolo\n",
        "# (ogni riga dopo \"CHAPTER ...\" contiene il sottotitolo, lead legge la riga successiva)\n",
        "lead_title = F.lead(\"value\").over(window_spec)\n",
        "\n",
        "#concatena CHAPTER con il sottotitolo quando is_chapter_line=true\n",
        "df_hp1_with_titles = df_hp1_with_titles.withColumn(\n",
        "    \"chapter_name\",\n",
        "    F.when(F.col(\"is_chapter_line\"),\n",
        "           F.concat_ws(\" — \", F.col(\"value\"), lead_title))\n",
        ")\n",
        "\n",
        "\n",
        "\n",
        "df_hp1_with_titles = df_hp1_with_titles.withColumn(\n",
        "    \"chapter_name\",\n",
        "    F.when(\n",
        "        (F.col(\"chapter_id\") == 0) & F.col(\"chapter_name\").isNull(),\n",
        "        F.lit(\"CHAPTER ONE\")\n",
        "    ).otherwise(F.col(\"chapter_name\"))\n",
        ")\n",
        "\n",
        "#Propaga il titolo del capitolo a tutte le righe successive\n",
        "df_hp1_with_titles = df_hp1_with_titles.withColumn(\n",
        "    \"chapter_title\",\n",
        "    F.last(\"chapter_name\", ignorenulls=True).over(window_spec)\n",
        ")\n",
        "\n",
        "#Raggruppa per capitolo\n",
        "df_hp1_chapters = (\n",
        "    df_hp1_with_titles\n",
        "    .groupBy(\"chapter_id\", \"chapter_title\")\n",
        "    .agg(F.collect_list(\"value\").alias(\"lines\"))\n",
        "    .withColumn(\"chapter_text\", F.concat_ws(\" \", F.col(\"lines\")))\n",
        "    .select(\"chapter_id\", \"chapter_title\", \"chapter_text\")\n",
        "    .orderBy(\"chapter_id\")\n",
        ")\n"
      ],
      "metadata": {
        "id": "m2XqWcXudOdn",
        "outputId": "78e13a87-bc2d-470e-fb87-6d0fe110764b",
        "colab": {
          "base_uri": "https://localhost:8080/"
        }
      },
      "execution_count": 78,
      "outputs": [
        {
          "output_type": "stream",
          "name": "stdout",
          "text": [
            "+-----------------+---------------+----------+--------------------+\n",
            "|value            |is_chapter_line|chapter_id|chapter_name        |\n",
            "+-----------------+---------------+----------+--------------------+\n",
            "|CHAPTER TWO      |true           |1         |CHAPTER TWO —       |\n",
            "|CHAPTER THREE    |true           |2         |CHAPTER THREE —     |\n",
            "|CHAPTER FOUR     |true           |3         |CHAPTER FOUR —      |\n",
            "|CHAPTER FIVE     |true           |4         |CHAPTER FIVE —      |\n",
            "|CHAPTER SIX      |true           |5         |CHAPTER SIX —       |\n",
            "|CHAPTER SEVEN    |true           |6         |CHAPTER SEVEN —     |\n",
            "|CHAPTER EIGHT    |true           |7         |CHAPTER EIGHT —     |\n",
            "|CHAPTER NINE     |true           |8         |CHAPTER NINE —      |\n",
            "|CHAPTER TEN      |true           |9         |CHAPTER TEN —       |\n",
            "|CHAPTER ELEVEN   |true           |10        |CHAPTER ELEVEN —    |\n",
            "|CHAPTER TWELVE   |true           |11        |CHAPTER TWELVE —    |\n",
            "|CHAPTER THIRTEEN |true           |12        |CHAPTER THIRTEEN —  |\n",
            "|CHAPTER FOURTEEN |true           |13        |CHAPTER FOURTEEN —  |\n",
            "|CHAPTER FIFTEEN  |true           |14        |CHAPTER FIFTEEN —   |\n",
            "|CHAPTER SIXTEEN  |true           |15        |CHAPTER SIXTEEN —   |\n",
            "|CHAPTER SEVENTEEN|true           |16        |CHAPTER SEVENTEEN — |\n",
            "+-----------------+---------------+----------+--------------------+\n",
            "\n"
          ]
        }
      ]
    },
    {
      "cell_type": "code",
      "source": [
        "df_hp1_chapters.show()"
      ],
      "metadata": {
        "id": "hSAEDQtNkc-L",
        "outputId": "e139a6b3-acfb-484d-c741-b5279e0d4155",
        "colab": {
          "base_uri": "https://localhost:8080/"
        }
      },
      "execution_count": 75,
      "outputs": [
        {
          "output_type": "stream",
          "name": "stdout",
          "text": [
            "+----------+--------------------+--------------------+\n",
            "|chapter_id|       chapter_title|        chapter_text|\n",
            "+----------+--------------------+--------------------+\n",
            "|         0|         CHAPTER ONE|M r. and Mrs. Dur...|\n",
            "|         1|      CHAPTER TWO — |CHAPTER TWO     T...|\n",
            "|         2|    CHAPTER THREE — |CHAPTER THREE    ...|\n",
            "|         3|     CHAPTER FOUR — |CHAPTER FOUR     ...|\n",
            "|         4|     CHAPTER FIVE — |CHAPTER FIVE     ...|\n",
            "|         5|      CHAPTER SIX — |CHAPTER SIX     T...|\n",
            "|         6|    CHAPTER SEVEN — |CHAPTER SEVEN    ...|\n",
            "|         7|    CHAPTER EIGHT — |CHAPTER EIGHT    ...|\n",
            "|         8|     CHAPTER NINE — |CHAPTER NINE     ...|\n",
            "|         9|      CHAPTER TEN — |CHAPTER TEN     H...|\n",
            "|        10|   CHAPTER ELEVEN — |CHAPTER ELEVEN   ...|\n",
            "|        11|   CHAPTER TWELVE — |CHAPTER TWELVE   ...|\n",
            "|        12| CHAPTER THIRTEEN — |CHAPTER THIRTEEN ...|\n",
            "|        13| CHAPTER FOURTEEN — |CHAPTER FOURTEEN ...|\n",
            "|        14|  CHAPTER FIFTEEN — |CHAPTER FIFTEEN  ...|\n",
            "|        15|  CHAPTER SIXTEEN — |CHAPTER SIXTEEN  ...|\n",
            "|        16|CHAPTER SEVENTEEN — |CHAPTER SEVENTEEN...|\n",
            "+----------+--------------------+--------------------+\n",
            "\n"
          ]
        }
      ]
    },
    {
      "cell_type": "code",
      "source": [
        "from pyspark.sql import functions as F\n",
        "from pyspark.sql.window import Window\n",
        "\n",
        "\n",
        "# Aggiungi la colonna row_id con un ID che aumenta per garantire che l'ordine di lettura originale sia preservato\n",
        "df_hp1_ordered = df_hp1.withColumn(\"row_id\", F.monotonically_increasing_id())\n",
        "\n",
        "# FILTRA LE RIGHE VUOTE !!\n",
        "# Questo è il passaggio chiave. Eliminiamo le righe che sono null, vuote (\"\")\n",
        "# o contengono solo spazi bianchi (trim(...) == \"\").\n",
        "df_hp1_cleaned = df_hp1_ordered.filter(\n",
        "    (F.col(\"value\").isNotNull()) & (F.trim(F.col(\"value\")) != \"\")\n",
        ")\n",
        "\n",
        "# Usando F.upper(), non ci preoccupiamo più di \"CHAPTER\" vs \"chapter\".\n",
        "df_hp1_with_titles = df_hp1_cleaned.withColumn(\n",
        "    \"is_chapter_line\",\n",
        "    F.upper(F.col(\"value\")).rlike(r\"^(CHAPTER\\s+[A-Z0-9]+)$\")\n",
        ")\n",
        "\n",
        "# Uso 'row_id' per mantenere l'ordine originale\n",
        "window_spec = Window.orderBy(\"row_id\")\n",
        "\n",
        "# parte da 0 se nella colonna is_chapter_line=true aggiunge 1\n",
        "df_hp1_with_titles = df_hp1_with_titles.withColumn(\n",
        "    \"chapter_id\",\n",
        "    F.sum(F.when(F.col(\"is_chapter_line\"), 1).otherwise(0)).over(window_spec)\n",
        ")\n",
        "\n",
        "# F.lead() mi restituisce la riga successiva come titolo del capitolo\n",
        "# (ogni riga dopo \"CHAPTER ...\" contiene il sottotitolo, lead legge la riga successiva)\n",
        "lead_title = F.lead(\"value\").over(window_spec)\n",
        "\n",
        "# Creiamo un \"marcatore\" del nome del capitolo.\n",
        "# Questo assegna il titolo (es. \"THE BOY WHO LIVED\") alla riga \"CHAPTER ONE\"\n",
        "df_hp1_with_titles = df_hp1_with_titles.withColumn(\n",
        "    \"chapter_name_marker\",\n",
        "    F.when(F.col(\"is_chapter_line\"), lead_title)\n",
        ")\n",
        "\n",
        "# Propaga il nome del capitolo (es. \"THE BOY WHO LIVED\") a tutte le righe\n",
        "# successive che appartengono a quel capitolo.\n",
        "df_hp1_with_titles = df_hp1_with_titles.withColumn(\n",
        "    \"chapter_title\",\n",
        "    F.last(\"chapter_name_marker\", ignorenulls=True).over(window_spec)\n",
        ")\n",
        "\n",
        "# AGGREGAZIONE FINALE\n",
        "\n",
        "# Ora dobbiamo filtrare le righe che non sono \"testo\"\n",
        "# Vogliamo rimuovere:\n",
        "# 1. Le righe \"CHAPTER...\" (is_chapter_line == True)\n",
        "# 2. Le righe del TITOLO (la riga dopo \"CHAPTER...\")\n",
        "\n",
        "# 'is_title_line' è True se la riga PRECEDENTE era \"is_chapter_line\"\n",
        "df_hp1_with_titles = df_hp1_with_titles.withColumn(\n",
        "    \"is_title_line\",\n",
        "    F.lag(\"is_chapter_line\", 1, False).over(window_spec)\n",
        ")\n",
        "\n",
        "# Filtra solo il testo del capitolo (escludi pre-capitolo e righe di metadati)\n",
        "df_hp1_final_text = df_hp1_with_titles.filter(\n",
        "    (F.col(\"is_chapter_line\") == False) &\n",
        "    (F.col(\"is_title_line\") == False) &\n",
        "    (F.col(\"chapter_id\") > 0) # Esclude il testo prima del Capitolo 1\n",
        ")\n",
        "\n",
        "# Raggruppa per capitolo\n",
        "df_hp1_chapters = (\n",
        "    df_hp1_final_text\n",
        "    .groupBy(\"chapter_id\", \"chapter_title\")\n",
        "    .agg(F.collect_list(\"value\").alias(\"lines\")) # Raccoglie le righe\n",
        "    .withColumn(\"chapter_text\", F.concat_ws(\" \", F.col(\"lines\"))) # Unisce in un unico testo\n",
        "    .select(\"chapter_id\", \"chapter_title\", \"chapter_text\")\n",
        "    .orderBy(\"chapter_id\")\n",
        ")\n",
        "\n",
        "# Ora questo dovrebbe funzionare\n",
        "df_hp1_chapters.show(truncate=10)"
      ],
      "metadata": {
        "id": "1Wrai6zAADml",
        "outputId": "c9ad87f4-68fe-4999-80f2-2d60e92adbc7",
        "colab": {
          "base_uri": "https://localhost:8080/"
        }
      },
      "execution_count": 80,
      "outputs": [
        {
          "output_type": "stream",
          "name": "stdout",
          "text": [
            "+----------+-------------+------------+\n",
            "|chapter_id|chapter_title|chapter_text|\n",
            "+----------+-------------+------------+\n",
            "|         1|   THE VAN...|  N early...|\n",
            "|         2|   LETTERS...|  T he es...|\n",
            "|         3|   THE KEE...|  B OOM. ...|\n",
            "|         4|   DIAGON ...|  H arry ...|\n",
            "|         5|   THE JOU...|  H arry’...|\n",
            "|         6|   THE SOR...|  T he do...|\n",
            "|         7|   THE POT...|  T here,...|\n",
            "|         8|   THE MID...|  H arry ...|\n",
            "|         9|    HALLOWEEN|  M alfoy...|\n",
            "|        10|    QUIDDITCH|  A s the...|\n",
            "|        11|   THE MIR...|  C hrist...|\n",
            "|        12|   NICHOLA...|  D umble...|\n",
            "|        13|   NORBERT...|  Q uirre...|\n",
            "|        14|   THE FOR...|  T hings...|\n",
            "|        15|   THROUGH...|  I n yea...|\n",
            "|        16|   THE MAN...|  I t was...|\n",
            "+----------+-------------+------------+\n",
            "\n"
          ]
        }
      ]
    },
    {
      "cell_type": "code",
      "source": [
        "from pyspark.sql import functions as F\n",
        "from pyspark.sql.window import Window\n",
        "from pyspark.sql import DataFrame\n",
        "from functools import reduce\n",
        "\n",
        "#definisco una funzione da fare su tutti e 7 i libri per dividere in capitoli\n",
        "\n",
        "def process_book_chapters(df_raw, book_number):\n",
        "    \"\"\"\n",
        "    Processa un DataFrame grezzo di testo di un libro e lo segmenta\n",
        "    in capitoli, assumendo che il testo inizi SEMPRE con il Capitolo 1\n",
        "    (anche senza un marcatore esplicito \"CHAPTER ONE\").\n",
        "    \"\"\"\n",
        "\n",
        "    # --- FASE 1: associo ad ogni riga un id per mantenere l'ordinamento ed elimino le righe vuote\n",
        "    df_ordered = df_raw.withColumn(\"row_id\", F.monotonically_increasing_id())\n",
        "    df_cleaned = df_ordered.filter(\n",
        "        (F.col(\"value\").isNotNull()) & (F.trim(F.col(\"value\")) != \"\")\n",
        "    )\n",
        "\n",
        "    # creo una finestra ed uso 'row_id' per mantenere l'ordine originale\n",
        "    window_spec = Window.orderBy(\"row_id\")\n",
        "\n",
        "    # --- FASE 2: gestione del primo capitolo (che non ha nessun marker)\n",
        "\n",
        "    # Cattura il titolo del Cap 1 (prima riga di testo pulito)\n",
        "    first_line_title = df_cleaned.first()[\"value\"]\n",
        "\n",
        "    # --- FASE 3: MARCATORI PER CAPITOLI SUCCESSIVI ---\n",
        "\n",
        "    # mette true nella colonna is_new_chapter_line nelle righe che sono come la regex\n",
        "    chapter_regex = r\"^(CHAPTER\\s+[A-Z0-9]+)$\"  # Questa regex cerca TUTTI i marcatori \"CHAPTER...\",\n",
        "    df_with_markers = df_cleaned.withColumn(\n",
        "        \"is_new_chapter_line\",\n",
        "        F.upper(F.col(\"value\")).rlike(chapter_regex)\n",
        "    )\n",
        "\n",
        "    # --- FASE 4: partendo da 1 assegno un ID crescente ad ogni capitolo\n",
        "\n",
        "    # Assegna ID (inizia da 1).\n",
        "    # Aggiunge 1 solo quando la colonna is_new_chapter_line= true\n",
        "    df_with_ids = df_with_markers.withColumn(\n",
        "        \"chapter_id\",\n",
        "        F.lit(1) + F.sum(F.when(F.col(\"is_new_chapter_line\"), 1).otherwise(0)).over(window_spec)\n",
        "    )\n",
        "\n",
        "    # Cattura i titoli dei capitoli successivi (la riga dopo il marcatore) e li inserisce nella colonna chapter_name_marker\n",
        "    lead_title = F.lead(\"value\").over(window_spec)\n",
        "    df_with_name_markers = df_with_ids.withColumn(\n",
        "        \"chapter_name_marker\",\n",
        "        F.when(F.col(\"is_new_chapter_line\"), lead_title)\n",
        "    )\n",
        "\n",
        "    # Propaga i titoli\n",
        "    df_with_propagated_titles = df_with_name_markers.withColumn(\n",
        "        \"chapter_title_propagated\",\n",
        "        F.last(\"chapter_name_marker\", ignorenulls=True).over(window_spec)\n",
        "    )\n",
        "\n",
        "    # Inserisce il titolo del Capitolo 1 manualmente\n",
        "    df_with_final_titles = df_with_propagated_titles.withColumn(\n",
        "        \"chapter_title\",\n",
        "        F.when(\n",
        "            F.col(\"chapter_id\") == 1,\n",
        "            F.lit(first_line_title) # Usa il titolo catturato dalla prima riga\n",
        "        ).otherwise(\n",
        "            F.col(\"chapter_title_propagated\") # Usa i titoli propagati per gli altri\n",
        "        )\n",
        "    )\n",
        "\n",
        "    # --- FASE 5: FILTRO E AGGREGAZIONE ---\n",
        "\n",
        "    # Identifica le righe di metadati da rimuovere:\n",
        "    # 1. Le righe \"CHAPTER...\"\n",
        "    # 2. Le righe del TITOLO (quelle subito dopo \"CHAPTER...\")\n",
        "\n",
        "    # Se è una riga titolo che segue un marcatore metti True senno False\n",
        "    df_with_meta_flags = df_with_final_titles.withColumn(\n",
        "        \"is_title_line\", # È una riga titolo che segue un marcatore?\n",
        "        F.lag(\"is_new_chapter_line\", 1, False).over(window_spec)\n",
        "    )\n",
        "\n",
        "    # Filtro finale:\n",
        "    # Rimuove le righe \"CHAPTER...\" e le righe titolo che seguono.\n",
        "    # Il testo del Capitolo 1 (inclusa la sua prima riga/titolo) viene\n",
        "    # automaticamente preservato perché non ha marcatori.\n",
        "    df_final_text = df_with_meta_flags.filter(\n",
        "        (F.col(\"is_new_chapter_line\") == False) & (F.col(\"is_title_line\") == False)\n",
        "    )\n",
        "\n",
        "    # --- FASE 6: AGGREGAZIONE ---\n",
        "    df_chapters = (\n",
        "        df_final_text\n",
        "        .groupBy(\"chapter_id\", \"chapter_title\")\n",
        "        .agg(F.collect_list(\"value\").alias(\"lines\"))\n",
        "        .withColumn(\"chapter_text\", F.concat_ws(\" \", F.col(\"lines\")))\n",
        "        # Aggiungi il numero del libro per l'unione finale\n",
        "        .withColumn(\"book_id\", F.lit(book_number))\n",
        "        .select(\"book_id\", \"chapter_id\", \"chapter_title\", \"chapter_text\")\n",
        "        .orderBy(\"chapter_id\")\n",
        "    )\n",
        "\n",
        "    return df_chapters"
      ],
      "metadata": {
        "id": "kdLDzHmIIkz6"
      },
      "execution_count": 84,
      "outputs": []
    },
    {
      "cell_type": "code",
      "source": [
        "# Metti tutti i tuoi DataFrame in una lista NELL'ORDINE CORRETTO\n",
        "all_hp_dfs = [df_hp1, df_hp2, df_hp3, df_hp4, df_hp5, df_hp6, df_hp7]\n",
        "\n",
        "processed_books_list = []\n",
        "\n",
        "print(\"Inizio elaborazione dei 7 libri (con logica unificata)...\")\n",
        "\n",
        "# Usiamo enumerate per ottenere l'indice (i) e il numero del libro (i+1)\n",
        "for i, df_book_raw in enumerate(all_hp_dfs):\n",
        "    book_number = i + 1\n",
        "\n",
        "    print(f\"Elaborazione: Libro {book_number}...\")\n",
        "\n",
        "    # Chiama la nostra funzione unificata\n",
        "    df_processed = process_book_chapters(df_book_raw, book_number)\n",
        "\n",
        "    processed_books_list.append(df_processed)\n",
        "\n",
        "print(\"Elaborazione completata.\")\n",
        "\n",
        "# --- Unisci tutto in un Unico DataFrame ---\n",
        "\n",
        "all_chapters_df = reduce(DataFrame.unionAll, processed_books_list)\n",
        "\n",
        "all_chapters_df.cache()\n",
        "\n",
        "print(f\"Numero totale di capitoli estratti: {all_chapters_df.count()}\")\n",
        "\n",
        "# Visualizza il risultato finale\n",
        "# Ora avrai capitoli da tutti i 7 libri, identificati da \"book_id\"\n",
        "all_chapters_df.orderBy(\"book_id\", \"chapter_id\").show(truncate=80)"
      ],
      "metadata": {
        "id": "YnEzxdUZLsii",
        "outputId": "6f005253-e5d6-4d46-f6f0-cb88bd9c94ac",
        "colab": {
          "base_uri": "https://localhost:8080/"
        }
      },
      "execution_count": 85,
      "outputs": [
        {
          "output_type": "stream",
          "name": "stdout",
          "text": [
            "Inizio elaborazione dei 7 libri (con logica unificata)...\n",
            "Elaborazione: Libro 1...\n",
            "Elaborazione: Libro 2...\n",
            "Elaborazione: Libro 3...\n",
            "Elaborazione: Libro 4...\n",
            "Elaborazione: Libro 5...\n",
            "Elaborazione: Libro 6...\n",
            "Elaborazione: Libro 7...\n",
            "Elaborazione completata.\n",
            "Numero totale di capitoli estratti: 97\n",
            "+-------+----------+--------------------------------------------------------------------------------+--------------------------------------------------------------------------------+\n",
            "|book_id|chapter_id|                                                                   chapter_title|                                                                    chapter_text|\n",
            "+-------+----------+--------------------------------------------------------------------------------+--------------------------------------------------------------------------------+\n",
            "|      1|         1|M r. and Mrs. Dursley, of number four, Privet Drive, were proud to say that t...|M r. and Mrs. Dursley, of number four, Privet Drive, were proud to say that t...|\n",
            "|      1|         2|                                                             THE VANISHING GLASS|N early ten years had passed since the Dursleys had woken up to find their ne...|\n",
            "|      1|         3|                                                             LETTERS FROM NO ONE|T he escape of the Brazilian boa constrictor earned Harry his longest-ever pu...|\n",
            "|      1|         4|                                                          THE KEEPER OF THE KEYS|B OOM. They knocked again. Dudley jerked awake. “Where’s the cannon?” he said...|\n",
            "|      1|         5|                                                                    DIAGON ALLEY|H arry woke early the next morning. Although he could tell it was daylight, h...|\n",
            "|      1|         6|                               THE JOURNEY FROM PLATFORM NINE AND THREE-QUARTERS|H arry’s last month with the Dursleys wasn’t fun. True, Dudley was now so sca...|\n",
            "|      1|         7|                                                                 THE SORTING HAT|T he door swung open at once. A tall, black-haired witch in emerald-green rob...|\n",
            "|      1|         8|                                                              THE POTIONS MASTER|T here, look.” “Where?” “Next to the tall kid with the red hair.” “Wearing th...|\n",
            "|      1|         9|                                                               THE MIDNIGHT DUEL|H arry had never believed he would meet a boy he hated more than Dudley, but ...|\n",
            "|      1|        10|                                                                       HALLOWEEN|M alfoy couldn’t believe his eyes when he saw that Harry and Ron were still a...|\n",
            "|      1|        11|                                                                       QUIDDITCH|A s they entered November, the weather turned very cold. The mountains around...|\n",
            "|      1|        12|                                                            THE MIRROR OF ERISED|C hristmas was coming. One morning in mid-December, Hogwarts woke to find its...|\n",
            "|      1|        13|                                                                 NICHOLAS FLAMEL|D umbledore had convinced Harry not to go looking for the Mirror of Erised ag...|\n",
            "|      1|        14|                                                 NORBERT THE NORWEGIAN RIDGEBACK|Q uirrell, however, must have been braver than they’d thought. In the weeks t...|\n",
            "|      1|        15|                                                            THE FORBIDDEN FOREST|T hings couldn’t have been worse. Filch took them down to Professor McGonagal...|\n",
            "|      1|        16|                                                            THROUGH THE TRAPDOOR|I n years to come, Harry would never quite remember how he had managed to get...|\n",
            "|      1|        17|                                                          THE MAN WITH TWO FACES|I t was Quirrell. “You!” gasped Harry. Quirrell smiled. His face wasn’t twitc...|\n",
            "|      2|         1|Not for the first time, an argument had broken out over breakfast at number f...|Not for the first time, an argument had broken out over breakfast at number f...|\n",
            "|      2|         2|                                                                 DOBBY’S WARNING|H arry managed not to shout out, but it was a close thing. The little creatur...|\n",
            "|      2|         3|                                                                      THE BURROW|“ R on .” breathed Harry, creeping to the window and pushing it up so they co...|\n",
            "+-------+----------+--------------------------------------------------------------------------------+--------------------------------------------------------------------------------+\n",
            "only showing top 20 rows\n",
            "\n"
          ]
        }
      ]
    },
    {
      "cell_type": "code",
      "source": [
        "from pyspark.sql import functions as F\n",
        "from pyspark.ml.feature import StopWordsRemover # Importa la classe\n",
        "\n",
        "# 1. Suddividi il testo in parole (tokenizzazione)\n",
        "df_words = all_chapters_df.select(\n",
        "    \"book_id\",\n",
        "    \"chapter_id\",\n",
        "    F.explode(F.split(F.lower(F.col(\"chapter_text\")), r\"\\s+\")).alias(\"word\")\n",
        ")\n",
        "\n",
        "# 2. Pulisci le parole (normalizzazione)\n",
        "df_cleaned_words = df_words.withColumn(\n",
        "    \"word\",\n",
        "    F.regexp_replace(F.col(\"word\"), r\"[^\\w]\", \"\")\n",
        ").filter(F.col(\"word\") != \"\").filter(F.length(F.col(\"word\")) > 2)\n",
        "\n",
        "# 3. RAGGRUPPA le parole in un array per capitolo\n",
        "#    (Questo è necessario per StopWordsRemover)\n",
        "df_word_arrays = df_cleaned_words.groupBy(\"book_id\", \"chapter_id\").agg(\n",
        "    F.collect_list(\"word\").alias(\"words_array\")\n",
        ")\n",
        "\n",
        "# 4. Inizializza e APPLICA StopWordsRemover\n",
        "remover = StopWordsRemover(\n",
        "    inputCol=\"words_array\",         # Colonna da cui leggere\n",
        "    outputCol=\"filtered_words\",     # Colonna in cui scrivere\n",
        "    language=\"english\"              # Imposta la lingua inglese\n",
        ")\n",
        "\n",
        "# Aggiungi parole personalizzate da rimuovere (opzionale ma consigliato)\n",
        "# \"harry\", \"ron\", \"hermione\" non sono stop words standard\n",
        "remover.setStopWords(remover.getStopWords() + [\"harry\", \"ron\", \"hermione\", \"dumbledore\", \"snape\"])\n",
        "\n",
        "# Applica la trasformazione\n",
        "df_filtered_arrays = remover.transform(df_word_arrays)\n",
        "\n",
        "# 5. RIESPLODI l'array filtrato per il conteggio finale\n",
        "df_meaningful_words = df_filtered_arrays.select(\n",
        "    F.explode(F.col(\"filtered_words\")).alias(\"word\")\n",
        ")\n",
        "\n",
        "# 6. Esegui il conteggio (Word Count)"
      ],
      "metadata": {
        "id": "NNjH49KxMD8i",
        "outputId": "fe16e0c9-d25b-4459-d3d1-02105d562244",
        "colab": {
          "base_uri": "https://localhost:8080/",
          "height": 332
        }
      },
      "execution_count": 90,
      "outputs": [
        {
          "output_type": "error",
          "ename": "TypeError",
          "evalue": "StopWordsRemover.__init__() got an unexpected keyword argument 'language'",
          "traceback": [
            "\u001b[0;31m---------------------------------------------------------------------------\u001b[0m",
            "\u001b[0;31mTypeError\u001b[0m                                 Traceback (most recent call last)",
            "\u001b[0;32m/tmp/ipython-input-3577381695.py\u001b[0m in \u001b[0;36m<cell line: 0>\u001b[0;34m()\u001b[0m\n\u001b[1;32m     22\u001b[0m \u001b[0;34m\u001b[0m\u001b[0m\n\u001b[1;32m     23\u001b[0m \u001b[0;31m# 4. Inizializza e APPLICA StopWordsRemover\u001b[0m\u001b[0;34m\u001b[0m\u001b[0;34m\u001b[0m\u001b[0m\n\u001b[0;32m---> 24\u001b[0;31m remover = StopWordsRemover(\n\u001b[0m\u001b[1;32m     25\u001b[0m     \u001b[0minputCol\u001b[0m\u001b[0;34m=\u001b[0m\u001b[0;34m\"words_array\"\u001b[0m\u001b[0;34m,\u001b[0m         \u001b[0;31m# Colonna da cui leggere\u001b[0m\u001b[0;34m\u001b[0m\u001b[0;34m\u001b[0m\u001b[0m\n\u001b[1;32m     26\u001b[0m     \u001b[0moutputCol\u001b[0m\u001b[0;34m=\u001b[0m\u001b[0;34m\"filtered_words\"\u001b[0m\u001b[0;34m,\u001b[0m     \u001b[0;31m# Colonna in cui scrivere\u001b[0m\u001b[0;34m\u001b[0m\u001b[0;34m\u001b[0m\u001b[0m\n",
            "\u001b[0;32m/usr/local/lib/python3.12/dist-packages/pyspark/__init__.py\u001b[0m in \u001b[0;36mwrapper\u001b[0;34m(self, *args, **kwargs)\u001b[0m\n\u001b[1;32m    137\u001b[0m             \u001b[0;32mraise\u001b[0m \u001b[0mTypeError\u001b[0m\u001b[0;34m(\u001b[0m\u001b[0;34m\"Method %s forces keyword arguments.\"\u001b[0m \u001b[0;34m%\u001b[0m \u001b[0mfunc\u001b[0m\u001b[0;34m.\u001b[0m\u001b[0m__name__\u001b[0m\u001b[0;34m)\u001b[0m\u001b[0;34m\u001b[0m\u001b[0;34m\u001b[0m\u001b[0m\n\u001b[1;32m    138\u001b[0m         \u001b[0mself\u001b[0m\u001b[0;34m.\u001b[0m\u001b[0m_input_kwargs\u001b[0m \u001b[0;34m=\u001b[0m \u001b[0mkwargs\u001b[0m\u001b[0;34m\u001b[0m\u001b[0;34m\u001b[0m\u001b[0m\n\u001b[0;32m--> 139\u001b[0;31m         \u001b[0;32mreturn\u001b[0m \u001b[0mfunc\u001b[0m\u001b[0;34m(\u001b[0m\u001b[0mself\u001b[0m\u001b[0;34m,\u001b[0m \u001b[0;34m**\u001b[0m\u001b[0mkwargs\u001b[0m\u001b[0;34m)\u001b[0m\u001b[0;34m\u001b[0m\u001b[0;34m\u001b[0m\u001b[0m\n\u001b[0m\u001b[1;32m    140\u001b[0m \u001b[0;34m\u001b[0m\u001b[0m\n\u001b[1;32m    141\u001b[0m     \u001b[0;32mreturn\u001b[0m \u001b[0mcast\u001b[0m\u001b[0;34m(\u001b[0m\u001b[0m_F\u001b[0m\u001b[0;34m,\u001b[0m \u001b[0mwrapper\u001b[0m\u001b[0;34m)\u001b[0m\u001b[0;34m\u001b[0m\u001b[0;34m\u001b[0m\u001b[0m\n",
            "\u001b[0;31mTypeError\u001b[0m: StopWordsRemover.__init__() got an unexpected keyword argument 'language'"
          ]
        }
      ]
    }
  ]
}